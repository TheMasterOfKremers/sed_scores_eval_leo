{
 "cells": [
  {
   "cell_type": "code",
   "execution_count": 1,
   "metadata": {},
   "outputs": [],
   "source": [
    "%matplotlib inline\n",
    "import matplotlib.pyplot as plt\n",
    "import numpy as np\n",
    "from sed_scores_eval import intersection_based, package_dir, io\n",
    "from time import time"
   ]
  },
  {
   "cell_type": "code",
   "execution_count": 2,
   "metadata": {},
   "outputs": [],
   "source": [
    "test_data_dir = package_dir / 'tests' / 'data'\n",
    "if not test_data_dir.exists():\n",
    "    io.download_test_data()"
   ]
  },
  {
   "cell_type": "code",
   "execution_count": 3,
   "metadata": {},
   "outputs": [],
   "source": [
    "dtc_threshold = .7\n",
    "gtc_threshold = .7\n",
    "cttc_threshold = None\n",
    "alpha_ct = .0\n",
    "alpha_st = 1."
   ]
  },
  {
   "cell_type": "markdown",
   "metadata": {},
   "source": [
    "# PSD-ROC computation using sed_scores_eval package"
   ]
  },
  {
   "cell_type": "code",
   "execution_count": 4,
   "metadata": {},
   "outputs": [
    {
     "name": "stdout",
     "output_type": "stream",
     "text": [
      "PSDS: 0.4009310740349864\n"
     ]
    },
    {
     "data": {
      "text/plain": [
       "1.9760546684265137"
      ]
     },
     "execution_count": 4,
     "metadata": {},
     "output_type": "execute_result"
    }
   ],
   "source": [
    "tic = time()\n",
    "psds, single_class_psds, psd_roc, single_class_psd_rocs = intersection_based.psds(\n",
    "    scores=test_data_dir / \"eval\" / \"scores\",\n",
    "    ground_truth=test_data_dir / \"eval\" / \"ground_truth.tsv\",\n",
    "    audio_durations=test_data_dir / \"eval\" / \"audio_durations.tsv\", \n",
    "    dtc_threshold=dtc_threshold, gtc_threshold=gtc_threshold,\n",
    "    cttc_threshold=cttc_threshold,\n",
    "    alpha_ct=alpha_ct, alpha_st=alpha_st,\n",
    "    unit_of_time='hour', max_efpr=100.,\n",
    "    num_jobs=8,\n",
    ")\n",
    "print('PSDS:', psds)\n",
    "etpr, efpr = psd_roc\n",
    "time() - tic"
   ]
  },
  {
   "cell_type": "code",
   "execution_count": 5,
   "metadata": {},
   "outputs": [
    {
     "data": {
      "image/png": "[encoded data removed]",
      "text/plain": [
       "<Figure size 1152x288 with 1 Axes>"
      ]
     },
     "metadata": {
      "needs_background": "light"
     },
     "output_type": "display_data"
    }
   ],
   "source": [
    "plt.figure(figsize=(16,4))\n",
    "plt.ylim(.0,.6)\n",
    "plt.xlim(0,100)\n",
    "plt.grid()\n",
    "plt.ylabel('eTPR')\n",
    "plt.xlabel('eFPR per hour')\n",
    "plt.step(efpr, etpr, lw=2, where='post')\n",
    "plt.legend(['sed_scores_eval',], loc='lower right');"
   ]
  },
  {
   "cell_type": "markdown",
   "metadata": {},
   "source": [
    "# PSD-ROC computation using psds_eval package without score transform"
   ]
  },
  {
   "cell_type": "markdown",
   "metadata": {},
   "source": [
    "## 50 linearly spaced thresholds"
   ]
  },
  {
   "cell_type": "code",
   "execution_count": 6,
   "metadata": {},
   "outputs": [
    {
     "name": "stdout",
     "output_type": "stream",
     "text": [
      "PSDS: 0.35789279341000930/50\n"
     ]
    },
    {
     "data": {
      "text/plain": [
       "35.34216856956482"
      ]
     },
     "execution_count": 6,
     "metadata": {},
     "output_type": "execute_result"
    }
   ],
   "source": [
    "thresholds=np.linspace(0.01, 0.99, 50)\n",
    "tic = time()\n",
    "(\n",
    "    psds_approx, single_class_psds_approx, psd_roc_approx, single_class_psd_rocs_approx\n",
    ") = intersection_based.reference.approximate_psds(\n",
    "    scores=test_data_dir / \"eval\" / \"scores\",\n",
    "    ground_truth=test_data_dir / \"eval\" / \"ground_truth.tsv\",\n",
    "    audio_durations=test_data_dir / \"eval\" / \"audio_durations.tsv\", \n",
    "    thresholds=thresholds,\n",
    "    dtc_threshold=dtc_threshold, gtc_threshold=gtc_threshold,\n",
    "    cttc_threshold=cttc_threshold if alpha_ct > 0. else None,\n",
    "    alpha_ct=alpha_ct, alpha_st=alpha_st,\n",
    "    unit_of_time='hour', max_efpr=100.,\n",
    ")\n",
    "print('PSDS:', psds_approx)\n",
    "etpr_approx, efpr_approx = psd_roc_approx\n",
    "time() - tic"
   ]
  },
  {
   "cell_type": "code",
   "execution_count": 7,
   "metadata": {},
   "outputs": [
    {
     "data": {
      "image/png": "[encoded data removed]",
      "text/plain": [
       "<Figure size 1152x288 with 1 Axes>"
      ]
     },
     "metadata": {
      "needs_background": "light"
     },
     "output_type": "display_data"
    }
   ],
   "source": [
    "plt.figure(figsize=(16,4))\n",
    "plt.ylim(.0,.6)\n",
    "plt.xlim(0,100)\n",
    "plt.grid()\n",
    "plt.ylabel('eTPR')\n",
    "plt.xlabel('eFPR per hour')\n",
    "plt.step(efpr_approx, etpr_approx, 'r', lw=2, where='post')\n",
    "plt.step(efpr, etpr, lw=2, where='post')\n",
    "plt.legend([ 'psds_eval', 'sed_scores_eval',], loc='lower right');"
   ]
  },
  {
   "cell_type": "markdown",
   "metadata": {},
   "source": [
    "## 500 linearly spaced thresholds"
   ]
  },
  {
   "cell_type": "code",
   "execution_count": 8,
   "metadata": {},
   "outputs": [
    {
     "name": "stdout",
     "output_type": "stream",
     "text": [
      "PSDS: 0.389413614235176900/500\n"
     ]
    },
    {
     "data": {
      "text/plain": [
       "316.0743794441223"
      ]
     },
     "execution_count": 8,
     "metadata": {},
     "output_type": "execute_result"
    }
   ],
   "source": [
    "thresholds = np.linspace(0.001, 0.999, 500)\n",
    "tic = time()\n",
    "(\n",
    "    psds_approx, single_class_psds_approx, psd_roc_approx, single_class_psd_rocs_approx\n",
    ") = intersection_based.reference.approximate_psds(\n",
    "    scores=test_data_dir / \"eval\" / \"scores\",\n",
    "    ground_truth=test_data_dir / \"eval\" / \"ground_truth.tsv\",\n",
    "    audio_durations=test_data_dir / \"eval\" / \"audio_durations.tsv\", \n",
    "    thresholds=thresholds,\n",
    "    dtc_threshold=dtc_threshold, gtc_threshold=gtc_threshold,\n",
    "    cttc_threshold=cttc_threshold if alpha_ct > 0. else None,\n",
    "    alpha_ct=alpha_ct, alpha_st=alpha_st,\n",
    "    unit_of_time='hour', max_efpr=100.,\n",
    ")\n",
    "print('PSDS:', psds_approx)\n",
    "etpr_approx, efpr_approx = psd_roc_approx\n",
    "time() - tic"
   ]
  },
  {
   "cell_type": "code",
   "execution_count": 9,
   "metadata": {},
   "outputs": [
    {
     "data": {
      "image/png": "[encoded data removed]",
      "text/plain": [
       "<Figure size 1152x288 with 1 Axes>"
      ]
     },
     "metadata": {
      "needs_background": "light"
     },
     "output_type": "display_data"
    }
   ],
   "source": [
    "plt.figure(figsize=(16,4))\n",
    "plt.ylim(.0,.6)\n",
    "plt.xlim(0,100)\n",
    "plt.grid()\n",
    "plt.ylabel('eTPR')\n",
    "plt.xlabel('eFPR per hour')\n",
    "plt.step(efpr_approx, etpr_approx, 'r', lw=2, where='post')\n",
    "plt.step(efpr, etpr, lw=2, where='post')\n",
    "plt.legend([ 'psds_eval', 'sed_scores_eval',], loc='lower right');"
   ]
  },
  {
   "cell_type": "markdown",
   "metadata": {},
   "source": [
    "# PSD-ROC computation using psds_eval package with score transform"
   ]
  },
  {
   "cell_type": "code",
   "execution_count": 10,
   "metadata": {},
   "outputs": [],
   "source": [
    "from sed_scores_eval.base_modules.io import write_score_transform\n",
    "write_score_transform(\n",
    "    scores=test_data_dir / 'validation' / \"scores\",\n",
    "    ground_truth=test_data_dir / 'validation' / \"ground_truth.tsv\",\n",
    "    filepath=test_data_dir / 'validation' / 'score_transform.tsv'\n",
    ")"
   ]
  },
  {
   "cell_type": "markdown",
   "metadata": {},
   "source": [
    "## 50 linearly spaced thresholds"
   ]
  },
  {
   "cell_type": "code",
   "execution_count": 11,
   "metadata": {},
   "outputs": [
    {
     "name": "stdout",
     "output_type": "stream",
     "text": [
      "PSDS: 0.39565124392608836/50\n"
     ]
    },
    {
     "data": {
      "text/plain": [
       "35.80717468261719"
      ]
     },
     "execution_count": 11,
     "metadata": {},
     "output_type": "execute_result"
    }
   ],
   "source": [
    "thresholds = np.linspace(0.01, 0.99, 50)\n",
    "tic = time()\n",
    "(\n",
    "    psds_approx, single_class_psds_approx, psd_roc_approx, single_class_psd_rocs_approx\n",
    ") = intersection_based.reference.approximate_psds(\n",
    "    scores=test_data_dir / \"eval\" / \"scores\",\n",
    "    ground_truth=test_data_dir / \"eval\" / \"ground_truth.tsv\",\n",
    "    audio_durations=test_data_dir / \"eval\" / \"audio_durations.tsv\", \n",
    "    thresholds=thresholds,\n",
    "    dtc_threshold=dtc_threshold, gtc_threshold=gtc_threshold,\n",
    "    cttc_threshold=cttc_threshold if alpha_ct > 0. else None,\n",
    "    alpha_ct=alpha_ct, alpha_st=alpha_st,\n",
    "    unit_of_time='hour', max_efpr=100.,\n",
    "    score_transform=test_data_dir / 'validation' / 'score_transform.tsv',\n",
    ")\n",
    "print('PSDS:', psds_approx)\n",
    "etpr_approx, efpr_approx = psd_roc_approx\n",
    "time() - tic"
   ]
  },
  {
   "cell_type": "code",
   "execution_count": 12,
   "metadata": {},
   "outputs": [
    {
     "data": {
      "image/png": "[encoded data removed]",
      "text/plain": [
       "<Figure size 1152x288 with 1 Axes>"
      ]
     },
     "metadata": {
      "needs_background": "light"
     },
     "output_type": "display_data"
    }
   ],
   "source": [
    "plt.figure(figsize=(16,4))\n",
    "plt.ylim(.0,.6)\n",
    "plt.xlim(0,100)\n",
    "plt.grid()\n",
    "plt.ylabel('eTPR')\n",
    "plt.xlabel('eFPR per hour')\n",
    "plt.step(efpr_approx, etpr_approx, 'r', lw=2, where='post')\n",
    "plt.step(efpr, etpr, lw=2, where='post')\n",
    "plt.legend([ 'psds_eval', 'sed_scores_eval',], loc='lower right');"
   ]
  },
  {
   "cell_type": "markdown",
   "metadata": {},
   "source": [
    "## 500 linearly spaced thresholds"
   ]
  },
  {
   "cell_type": "code",
   "execution_count": 13,
   "metadata": {},
   "outputs": [
    {
     "name": "stdout",
     "output_type": "stream",
     "text": [
      "PSDS: 0.400044407598748100/500\n"
     ]
    },
    {
     "data": {
      "text/plain": [
       "317.93948674201965"
      ]
     },
     "execution_count": 13,
     "metadata": {},
     "output_type": "execute_result"
    }
   ],
   "source": [
    "thresholds = np.linspace(0.001, 0.999, 500)\n",
    "tic = time()\n",
    "(\n",
    "    psds_approx, single_class_psds_approx, psd_roc_approx, single_class_psd_rocs_approx\n",
    ") = intersection_based.reference.approximate_psds(\n",
    "    scores=test_data_dir / \"eval\" / \"scores\",\n",
    "    ground_truth=test_data_dir / \"eval\" / \"ground_truth.tsv\",\n",
    "    audio_durations=test_data_dir / \"eval\" / \"audio_durations.tsv\", \n",
    "    thresholds=thresholds,\n",
    "    dtc_threshold=dtc_threshold, gtc_threshold=gtc_threshold,\n",
    "    cttc_threshold=cttc_threshold if alpha_ct > 0. else None,\n",
    "    alpha_ct=alpha_ct, alpha_st=alpha_st,\n",
    "    unit_of_time='hour', max_efpr=100.,\n",
    "    score_transform=test_data_dir / 'validation' / 'score_transform.tsv',\n",
    ")\n",
    "print('PSDS:', psds_approx)\n",
    "etpr_approx, efpr_approx = psd_roc_approx\n",
    "time() - tic"
   ]
  },
  {
   "cell_type": "code",
   "execution_count": 14,
   "metadata": {},
   "outputs": [
    {
     "data": {
      "image/png": "[encoded data removed]",
      "text/plain": [
       "<Figure size 1152x288 with 1 Axes>"
      ]
     },
     "metadata": {
      "needs_background": "light"
     },
     "output_type": "display_data"
    }
   ],
   "source": [
    "plt.figure(figsize=(16,4))\n",
    "plt.ylim(.0,.6)\n",
    "plt.xlim(0,100)\n",
    "plt.grid()\n",
    "plt.ylabel('eTPR')\n",
    "plt.xlabel('eFPR per hour')\n",
    "plt.step(efpr_approx, etpr_approx, 'r', lw=2, where='post')\n",
    "plt.step(efpr, etpr, lw=2, where='post')\n",
    "plt.legend([ 'psds_eval', 'sed_scores_eval',], loc='lower right');"
   ]
  }
 ],
 "metadata": {
  "kernelspec": {
   "display_name": "playground",
   "language": "python",
   "name": "playground"
  },
  "language_info": {
   "codemirror_mode": {
    "name": "ipython",
    "version": 3
   },
   "file_extension": ".py",
   "mimetype": "text/x-python",
   "name": "python",
   "nbconvert_exporter": "python",
   "pygments_lexer": "ipython3",
   "version": "3.9.13"
  }
 },
 "nbformat": 4,
 "nbformat_minor": 4
}
